{
 "cells": [
  {
   "cell_type": "code",
   "execution_count": 31,
   "metadata": {},
   "outputs": [],
   "source": [
    "def xtrue(dt,tsteps): \n",
    "    import numpy as np\n",
    "    import random as rd\n",
    "    import matplotlib.pyplot as plt\n",
    "    # do a non general set-up for F and G\n",
    "    xdim=2\n",
    "    F=np.array([[1,dt],[0,1]])\n",
    "    G=np.array([[dt*dt/2],[dt]])\n",
    "    mstd=0.1\n",
    "    # set up the state vector as a 3d array\n",
    "    x=np.zeros((tsteps,xdim,1))\n",
    "    # simulation - note G*nu is not general!\n",
    "    for i in range(tsteps-1):\n",
    "        x[i+1]=F@x[i]+G@np.array([rd.gauss(0,mstd)])\n",
    "        \n",
    "    plt.plot(x[:,0,0])\n",
    "    \n",
    "    return(x)"
   ]
  },
  {
   "cell_type": "code",
   "execution_count": 70,
   "metadata": {},
   "outputs": [],
   "source": [
    "np.random.seed(777)"
   ]
  },
  {
   "cell_type": "code",
   "execution_count": 3,
   "metadata": {},
   "outputs": [],
   "source": [
    "dt = 0.1\n",
    "tsteps = 100\n",
    "import numpy as np\n",
    "import random as rd\n",
    "import matplotlib.pyplot as plt\n",
    "# do a non general set-up for F and G\n",
    "xdim=2\n",
    "F=np.array([[1,dt],[0,1]])\n",
    "G=np.array([[dt*dt/2],[dt]])\n",
    "mstd=0.1\n",
    "# set up the state vector as a 3d array\n",
    "x_orig=np.zeros((tsteps,xdim,1))\n",
    "x_mod = x_orig\n",
    "# simulation - note G*nu is not general!\n",
    "for i in range(tsteps-1):\n",
    "    noise = rd.gauss(0,mstd)\n",
    "    \n",
    "    x_orig[i+1]=F@x_orig[i]+G*noise\n",
    "    x_mod[i+1]=F@x_mod[i]+G@np.array([[noise]])"
   ]
  },
  {
   "cell_type": "code",
   "execution_count": 2,
   "metadata": {},
   "outputs": [
    {
     "data": {
      "text/plain": [
       "'1.18.1'"
      ]
     },
     "execution_count": 2,
     "metadata": {},
     "output_type": "execute_result"
    }
   ],
   "source": [
    "np.__version__"
   ]
  },
  {
   "cell_type": "code",
   "execution_count": 4,
   "metadata": {},
   "outputs": [],
   "source": [
    "assert (x_orig == x_mod).all()"
   ]
  },
  {
   "cell_type": "code",
   "execution_count": 6,
   "metadata": {},
   "outputs": [
    {
     "data": {
      "image/png": "[encoded data removed]",
      "text/plain": [
       "<Figure size 432x288 with 1 Axes>"
      ]
     },
     "metadata": {
      "needs_background": "light"
     },
     "output_type": "display_data"
    }
   ],
   "source": [
    "plt.plot(x_orig[:,0,0])\n",
    "plt.plot(x_mod[:,0,0])\n",
    "plt.show()"
   ]
  },
  {
   "cell_type": "code",
   "execution_count": 4,
   "metadata": {},
   "outputs": [
    {
     "data": {
      "text/plain": [
       "(100, 2, 1)"
      ]
     },
     "execution_count": 4,
     "metadata": {},
     "output_type": "execute_result"
    }
   ],
   "source": [
    "x.shape"
   ]
  },
  {
   "cell_type": "code",
   "execution_count": null,
   "metadata": {},
   "outputs": [],
   "source": []
  }
 ],
 "metadata": {
  "kernelspec": {
   "display_name": "Python 3",
   "language": "python",
   "name": "python3"
  },
  "language_info": {
   "codemirror_mode": {
    "name": "ipython",
    "version": 3
   },
   "file_extension": ".py",
   "mimetype": "text/x-python",
   "name": "python",
   "nbconvert_exporter": "python",
   "pygments_lexer": "ipython3",
   "version": "3.7.6"
  }
 },
 "nbformat": 4,
 "nbformat_minor": 4
}
