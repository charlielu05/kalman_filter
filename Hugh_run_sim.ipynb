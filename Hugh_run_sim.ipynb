{
 "cells": [
  {
   "cell_type": "code",
   "execution_count": 31,
   "metadata": {},
   "outputs": [],
   "source": [
    "def xtrue(dt,tsteps): \n",
    "    import numpy as np\n",
    "    import random as rd\n",
    "    import matplotlib.pyplot as plt\n",
    "    # do a non general set-up for F and G\n",
    "    xdim=2\n",
    "    F=np.array([[1,dt],[0,1]])\n",
    "    G=np.array([[dt*dt/2],[dt]])\n",
    "    mstd=0.1\n",
    "    # set up the state vector as a 3d array\n",
    "    x=np.zeros((tsteps,xdim,1))\n",
    "    # simulation - note G*nu is not general!\n",
    "    for i in range(tsteps-1):\n",
    "        x[i+1]=F@x[i]+G@np.array([rd.gauss(0,mstd)])\n",
    "        \n",
    "    plt.plot(x[:,0,0])\n",
    "    \n",
    "    return(x)"
   ]
  },
  {
   "cell_type": "code",
   "execution_count": 62,
   "metadata": {},
   "outputs": [],
   "source": [
    "dt = 0.1\n",
    "tsteps = 100\n",
    "import numpy as np\n",
    "import random as rd\n",
    "import matplotlib.pyplot as plt\n",
    "# do a non general set-up for F and G\n",
    "xdim=2\n",
    "F=np.array([[1,dt],[0,1]])\n",
    "G=np.array([[dt*dt/2],[dt]])\n",
    "mstd=0.1\n",
    "# set up the state vector as a 3d array\n",
    "x=np.zeros((tsteps,xdim,1))\n",
    "# simulation - note G*nu is not general!\n",
    "for i in range(tsteps-1):\n",
    "    x[i+1]=F@x[i]+G@np.array([[rd.gauss(0,mstd)]])"
   ]
  },
  {
   "cell_type": "code",
   "execution_count": 64,
   "metadata": {},
   "outputs": [
    {
     "data": {
      "text/plain": [
       "[<matplotlib.lines.Line2D at 0x7f96fd65d390>]"
      ]
     },
     "execution_count": 64,
     "metadata": {},
     "output_type": "execute_result"
    },
    {
     "data": {
      "image/png": "[encoded data removed]",
      "text/plain": [
       "<Figure size 432x288 with 1 Axes>"
      ]
     },
     "metadata": {
      "needs_background": "light"
     },
     "output_type": "display_data"
    }
   ],
   "source": [
    "plt.plot(x[:,0,0])"
   ]
  },
  {
   "cell_type": "code",
   "execution_count": 4,
   "metadata": {},
   "outputs": [
    {
     "data": {
      "text/plain": [
       "(100, 2, 1)"
      ]
     },
     "execution_count": 4,
     "metadata": {},
     "output_type": "execute_result"
    }
   ],
   "source": [
    "x.shape"
   ]
  },
  {
   "cell_type": "code",
   "execution_count": null,
   "metadata": {},
   "outputs": [],
   "source": []
  }
 ],
 "metadata": {
  "kernelspec": {
   "display_name": "Python 3",
   "language": "python",
   "name": "python3"
  },
  "language_info": {
   "codemirror_mode": {
    "name": "ipython",
    "version": 3
   },
   "file_extension": ".py",
   "mimetype": "text/x-python",
   "name": "python",
   "nbconvert_exporter": "python",
   "pygments_lexer": "ipython3",
   "version": "3.7.6"
  }
 },
 "nbformat": 4,
 "nbformat_minor": 4
}
