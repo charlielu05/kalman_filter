{
  "nbformat": 4,
  "nbformat_minor": 0,
  "metadata": {
    "colab": {
      "name": "KF Tutorial Exercise 1 (28/01/2021)",
      "provenance": [],
      "collapsed_sections": [],
      "authorship_tag": "ABX9TyNcxdFsahTWCh3ISyEFxAvO",
      "include_colab_link": true
    },
    "kernelspec": {
      "name": "python3",
      "display_name": "Python 3"
    }
  },
  "cells": [
    {
      "cell_type": "markdown",
      "metadata": {
        "id": "view-in-github",
        "colab_type": "text"
      },
      "source": [
        "<a href=\"https://colab.research.google.com/github/charlielu05/kalman_filter/blob/master/KF_Tutorial_Exercise_1_(28_01_2021).ipynb\" target=\"_parent\"><img src=\"https://colab.research.google.com/assets/colab-badge.svg\" alt=\"Open In Colab\"/></a>"
      ]
    },
    {
      "cell_type": "markdown",
      "metadata": {
        "id": "6Ypf5mhsvSbL"
      },
      "source": [
        "## Bayes Theorem Example IIa from Introduction to to Estimation and Data Fusion, H.Durrant-Whyte Slide 17"
      ]
    },
    {
      "cell_type": "markdown",
      "metadata": {
        "id": "pxvW-IXKviYS"
      },
      "source": [
        "A single state x which can take on one of three values: \\\n",
        "$x_{1}$: x is a type 1 target \\\n",
        "$x_{2}$: x is a type 2 target \\\n",
        "$x_{3}$: No visible target"
      ]
    },
    {
      "cell_type": "markdown",
      "metadata": {
        "id": "TpHb9LEcwedw"
      },
      "source": [
        "Single sensor observes $x$ and returns three possible values: \\\n",
        "$z_{1}$: Observation of a type 1 target \\\n",
        "$z_{2}$: Observation of a type 2 target \\\n",
        "$z_{3}$: No target observed"
      ]
    },
    {
      "cell_type": "markdown",
      "metadata": {
        "id": "m96C_VKJxHMZ"
      },
      "source": [
        "The sensor model is described by the likelihood matrix $P_{1}(z|x)$: \\\n",
        " ~     | z1  |  z2  |  z3 \n",
        "---    |-----|------|-----\n",
        "$x_{1}$| 0.45| 0.45 | 0.1 \n",
        "$x_{2}$| 0.45| 0.45 | 0.1 \n",
        "$x_{3}$| 0.15| 0.15 | 0.7 "
      ]
    },
    {
      "cell_type": "markdown",
      "metadata": {
        "id": "VQllzlWRycmE"
      },
      "source": [
        "Likelihood matrix is a function of both $x$ and $z$\n",
        "For a fixed state ($x$), it describes the probability of a particular observation being made (rows of the matrix, $z_{1}$...$z_{3}$)\n",
        "For an observation it describes a probability distribution over the values of true state (the columns, $x_{1}$...$x_{3}$) and is then the Likelihood Function."
      ]
    },
    {
      "cell_type": "markdown",
      "metadata": {
        "id": "8HnNVbsc0J3w"
      },
      "source": [
        "The posterior distribution of the true state $x$ after making an observation $z=_z{i}$ is given by $P(x|z_{i})=\\alpha P_{1}(z_{i}|x)P(x)$ \\\n",
        "$\\alpha$ is the normalizing constant so that sum, over $x$ of posteriors is 1 \\\n",
        "Assume our prior on $x$ is non-informative so that the true state is equally likely for all three states. $P(x)=(0.33,0.33,0.33)$ \\\n",
        "So probability of $x_{1}$=33%, $x_{2}$=33%, $x_{3}$=33% \\\n",
        "Our likelihood function for $z$=$z_{1}$, $P(z_{1}|x)$=(0.45,0.45,0.15) \\"
      ]
    },
    {
      "cell_type": "code",
      "metadata": {
        "id": "yq6Ko5r9DPMQ"
      },
      "source": [
        "import numpy as np"
      ],
      "execution_count": null,
      "outputs": []
    },
    {
      "cell_type": "code",
      "metadata": {
        "id": "qvkzEFSbHLUO"
      },
      "source": [
        "likelihood_matrix = np.array([[.45,.45,.1],\n",
        "                              [.45,.45,.1],\n",
        "                              [.15,.15,.7]])"
      ],
      "execution_count": null,
      "outputs": []
    },
    {
      "cell_type": "code",
      "metadata": {
        "colab": {
          "base_uri": "https://localhost:8080/"
        },
        "id": "CbLk78tjHfPT",
        "outputId": "a7f9bc36-1434-4dfb-bca8-a2ad8fc9ddad"
      },
      "source": [
        "likelihood_matrix"
      ],
      "execution_count": null,
      "outputs": [
        {
          "output_type": "execute_result",
          "data": {
            "text/plain": [
              "array([[0.45, 0.45, 0.1 ],\n",
              "       [0.45, 0.45, 0.1 ],\n",
              "       [0.15, 0.15, 0.7 ]])"
            ]
          },
          "metadata": {
            "tags": []
          },
          "execution_count": 60
        }
      ]
    },
    {
      "cell_type": "code",
      "metadata": {
        "id": "dfArXV7cHjim"
      },
      "source": [
        "p_z1 = likelihood_matrix[:,0]"
      ],
      "execution_count": null,
      "outputs": []
    },
    {
      "cell_type": "code",
      "metadata": {
        "id": "9F89laASDsKH"
      },
      "source": [
        "prior = np.array([0.33,0.33,0.33])"
      ],
      "execution_count": null,
      "outputs": []
    },
    {
      "cell_type": "code",
      "metadata": {
        "colab": {
          "base_uri": "https://localhost:8080/"
        },
        "id": "WDhe_JDCFG8E",
        "outputId": "85fef4c6-edf0-4a0a-b475-158c6e36aa90"
      },
      "source": [
        "prior"
      ],
      "execution_count": null,
      "outputs": [
        {
          "output_type": "execute_result",
          "data": {
            "text/plain": [
              "array([0.33, 0.33, 0.33])"
            ]
          },
          "metadata": {
            "tags": []
          },
          "execution_count": 63
        }
      ]
    },
    {
      "cell_type": "code",
      "metadata": {
        "id": "7igcUnZrFrD_"
      },
      "source": [
        "alpha = np.sum(p_z1 * prior)"
      ],
      "execution_count": null,
      "outputs": []
    },
    {
      "cell_type": "markdown",
      "metadata": {
        "id": "-eSVGuIIGHmk"
      },
      "source": [
        "First observation of $z$=$z_{1}$"
      ]
    },
    {
      "cell_type": "code",
      "metadata": {
        "id": "vcfekJmQED4d"
      },
      "source": [
        "posterior = 1/alpha * (likelihood * prior)"
      ],
      "execution_count": null,
      "outputs": []
    },
    {
      "cell_type": "code",
      "metadata": {
        "colab": {
          "base_uri": "https://localhost:8080/"
        },
        "id": "mIm9mYAzEHoO",
        "outputId": "8ca05a49-eb90-4e50-b973-ec31eab8b213"
      },
      "source": [
        "posterior"
      ],
      "execution_count": null,
      "outputs": [
        {
          "output_type": "execute_result",
          "data": {
            "text/plain": [
              "array([0.42857143, 0.42857143, 0.14285714])"
            ]
          },
          "metadata": {
            "tags": []
          },
          "execution_count": 66
        }
      ]
    },
    {
      "cell_type": "markdown",
      "metadata": {
        "id": "J9-PMhX2GS46"
      },
      "source": [
        "Second observation of $z$=$z_{1}$ \\\n",
        "Remember the posterior from the first observation is now the prior for the second observation."
      ]
    },
    {
      "cell_type": "code",
      "metadata": {
        "id": "2J5is1nbGWRn"
      },
      "source": [
        "prior = posterior "
      ],
      "execution_count": null,
      "outputs": []
    },
    {
      "cell_type": "code",
      "metadata": {
        "colab": {
          "base_uri": "https://localhost:8080/"
        },
        "id": "YXwty29gGhrL",
        "outputId": "f3e54a7c-070a-4467-c822-a48a48695c0c"
      },
      "source": [
        "prior"
      ],
      "execution_count": null,
      "outputs": [
        {
          "output_type": "execute_result",
          "data": {
            "text/plain": [
              "array([0.42857143, 0.42857143, 0.14285714])"
            ]
          },
          "metadata": {
            "tags": []
          },
          "execution_count": 68
        }
      ]
    },
    {
      "cell_type": "code",
      "metadata": {
        "id": "QsjFmAS8GkBd"
      },
      "source": [
        "alpha = np.sum(p_z1 * prior)"
      ],
      "execution_count": null,
      "outputs": []
    },
    {
      "cell_type": "code",
      "metadata": {
        "colab": {
          "base_uri": "https://localhost:8080/"
        },
        "id": "qW7MZMZTGpdh",
        "outputId": "951420cb-e98e-470a-ff7f-af94224f805c"
      },
      "source": [
        "alpha"
      ],
      "execution_count": null,
      "outputs": [
        {
          "output_type": "execute_result",
          "data": {
            "text/plain": [
              "0.40714285714285714"
            ]
          },
          "metadata": {
            "tags": []
          },
          "execution_count": 70
        }
      ]
    },
    {
      "cell_type": "code",
      "metadata": {
        "colab": {
          "base_uri": "https://localhost:8080/"
        },
        "id": "8p9LwuOUGqAy",
        "outputId": "63b1d150-f9e9-443c-dd8f-8633fe19ae46"
      },
      "source": [
        "posterior = 1/alpha * (likelihood * prior)\n",
        "posterior"
      ],
      "execution_count": null,
      "outputs": [
        {
          "output_type": "execute_result",
          "data": {
            "text/plain": [
              "array([0.47368421, 0.47368421, 0.05263158])"
            ]
          },
          "metadata": {
            "tags": []
          },
          "execution_count": 71
        }
      ]
    },
    {
      "cell_type": "markdown",
      "metadata": {
        "id": "A7JSFmw1OEz4"
      },
      "source": [
        "---"
      ]
    },
    {
      "cell_type": "markdown",
      "metadata": {
        "id": "bdD5cch4OGZ-"
      },
      "source": [
        "\n",
        "### Effect of prior "
      ]
    },
    {
      "cell_type": "markdown",
      "metadata": {
        "id": "0UmViLh5bdrg"
      },
      "source": [
        "Define a function that takes a prior and number of z_1 observations as input and calculates posterior"
      ]
    },
    {
      "cell_type": "code",
      "metadata": {
        "id": "4o9adGVFbUL4"
      },
      "source": [
        "def repeat_obs(likelihood: np.array, prior:np.array, observations: int)-> np.array:\n",
        "  for _ in range(observations):\n",
        "    alpha = np.sum(likelihood * prior)\n",
        "    posterior = 1/alpha * (likelihood * prior)\n",
        "    prior = posterior\n",
        "  return posterior "
      ],
      "execution_count": null,
      "outputs": []
    },
    {
      "cell_type": "code",
      "metadata": {
        "id": "cKYN7ZGCOFaM"
      },
      "source": [
        "%matplotlib inline\n",
        "import matplotlib.pyplot as plt\n",
        "plt.style.use('seaborn-white')"
      ],
      "execution_count": null,
      "outputs": []
    },
    {
      "cell_type": "code",
      "metadata": {
        "id": "KZuNGfQZPIaK"
      },
      "source": [
        "uniform_prior = np.array([.33,.33,.33])\n",
        "z1_bias_prior = np.array([.8,.15,.05])\n",
        "z3_bias_prior = np.array([.1, .1, .8])"
      ],
      "execution_count": null,
      "outputs": []
    },
    {
      "cell_type": "code",
      "metadata": {
        "id": "IjmLOJPaRiu6"
      },
      "source": [
        "z_values = ['z1','z2','z3']"
      ],
      "execution_count": null,
      "outputs": []
    },
    {
      "cell_type": "markdown",
      "metadata": {
        "id": "pGhURYpWVf6Z"
      },
      "source": [
        "**Uniform prior**"
      ]
    },
    {
      "cell_type": "code",
      "metadata": {
        "id": "BSpyw1Ikb2Mi"
      },
      "source": [
        "plt.bar(z_values, uniform_prior)"
      ],
      "execution_count": null,
      "outputs": []
    },
    {
      "cell_type": "code",
      "metadata": {
        "id": "nLMpd52tSWbp"
      },
      "source": [
        "uniform_posterior = repeat_obs(p_z1, uniform_prior, 2)"
      ],
      "execution_count": 120,
      "outputs": []
    },
    {
      "cell_type": "code",
      "metadata": {
        "colab": {
          "base_uri": "https://localhost:8080/",
          "height": 300
        },
        "id": "h-b7EulIVHEz",
        "outputId": "957f623a-0f6b-4873-f1cd-daefc0e7965f"
      },
      "source": [
        "plt.bar(z_values, uniform_posterior)"
      ],
      "execution_count": 121,
      "outputs": [
        {
          "output_type": "execute_result",
          "data": {
            "text/plain": [
              "<BarContainer object of 3 artists>"
            ]
          },
          "metadata": {
            "tags": []
          },
          "execution_count": 121
        },
        {
          "output_type": "display_data",
          "data": {
            "image/png": "[encoded data removed]",
            "text/plain": [
              "<Figure size 432x288 with 1 Axes>"
            ]
          },
          "metadata": {
            "tags": []
          }
        }
      ]
    },
    {
      "cell_type": "markdown",
      "metadata": {
        "id": "qGJxxbDvV2Dt"
      },
      "source": [
        "**z3 biased prior**"
      ]
    },
    {
      "cell_type": "code",
      "metadata": {
        "id": "7I6kwp3pVas8"
      },
      "source": [
        "z3_bias_posterior = repeat_obs(p_z1, z3_bias_prior, 2)"
      ],
      "execution_count": 113,
      "outputs": []
    },
    {
      "cell_type": "code",
      "metadata": {
        "colab": {
          "base_uri": "https://localhost:8080/",
          "height": 300
        },
        "id": "MNHUNSvFV-I5",
        "outputId": "f2721d7d-b282-4b55-9d3b-f5eae1081af1"
      },
      "source": [
        "plt.bar(z_values, z3_bias_posterior)"
      ],
      "execution_count": 119,
      "outputs": [
        {
          "output_type": "execute_result",
          "data": {
            "text/plain": [
              "<BarContainer object of 3 artists>"
            ]
          },
          "metadata": {
            "tags": []
          },
          "execution_count": 119
        },
        {
          "output_type": "display_data",
          "data": {
            "image/png": "[encoded data removed]",
            "text/plain": [
              "<Figure size 432x288 with 1 Axes>"
            ]
          },
          "metadata": {
            "tags": []
          }
        }
      ]
    },
    {
      "cell_type": "code",
      "metadata": {
        "id": "wLJnP84zV-9y"
      },
      "source": [
        "plt.bar(z_values, z3_bias_prior)"
      ],
      "execution_count": null,
      "outputs": []
    }
  ]
}