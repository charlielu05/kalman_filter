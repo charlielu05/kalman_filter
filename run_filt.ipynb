{
 "cells": [
  {
   "cell_type": "code",
   "execution_count": 1,
   "metadata": {},
   "outputs": [],
   "source": [
    "from kf import *"
   ]
  },
  {
   "cell_type": "code",
   "execution_count": 2,
   "metadata": {},
   "outputs": [],
   "source": [
    "A = np.array([[0,1], [0,0]])"
   ]
  },
  {
   "cell_type": "code",
   "execution_count": 3,
   "metadata": {},
   "outputs": [],
   "source": [
    "B = np.array([[0],[1]])"
   ]
  },
  {
   "cell_type": "code",
   "execution_count": 4,
   "metadata": {},
   "outputs": [],
   "source": [
    "C = np.array([[0,0]])\n",
    "D = np.array([[0]])"
   ]
  },
  {
   "cell_type": "code",
   "execution_count": 5,
   "metadata": {},
   "outputs": [],
   "source": [
    "H = np.array([[0,1]])"
   ]
  },
  {
   "cell_type": "code",
   "execution_count": 6,
   "metadata": {},
   "outputs": [],
   "source": [
    "Q = np.array([[0.01]])"
   ]
  },
  {
   "cell_type": "code",
   "execution_count": 7,
   "metadata": {},
   "outputs": [],
   "source": [
    "R = np.array([[1]])"
   ]
  },
  {
   "cell_type": "code",
   "execution_count": 8,
   "metadata": {},
   "outputs": [],
   "source": [
    "x0 = np.array([[0],[0]])"
   ]
  },
  {
   "cell_type": "markdown",
   "metadata": {},
   "source": [
    "---"
   ]
  },
  {
   "cell_type": "code",
   "execution_count": 9,
   "metadata": {},
   "outputs": [],
   "source": [
    "dt = 0.1"
   ]
  },
  {
   "cell_type": "code",
   "execution_count": 10,
   "metadata": {},
   "outputs": [],
   "source": [
    "t_steps = 100"
   ]
  },
  {
   "cell_type": "code",
   "execution_count": 11,
   "metadata": {},
   "outputs": [],
   "source": [
    "state_space = signal.StateSpace(A,B,C,D)"
   ]
  },
  {
   "cell_type": "code",
   "execution_count": 12,
   "metadata": {},
   "outputs": [],
   "source": [
    "time = np.arange(0,t_steps,dt)"
   ]
  },
  {
   "cell_type": "code",
   "execution_count": 13,
   "metadata": {},
   "outputs": [],
   "source": [
    "F = state_space.to_discrete(dt).A"
   ]
  },
  {
   "cell_type": "code",
   "execution_count": 14,
   "metadata": {},
   "outputs": [],
   "source": [
    "G = state_space.to_discrete(dt).B"
   ]
  },
  {
   "cell_type": "code",
   "execution_count": 15,
   "metadata": {},
   "outputs": [],
   "source": [
    "z, x = xtrue(F, G, H, Q, R, x0, t_steps)"
   ]
  },
  {
   "cell_type": "markdown",
   "metadata": {},
   "source": [
    "---"
   ]
  },
  {
   "cell_type": "code",
   "execution_count": 35,
   "metadata": {},
   "outputs": [],
   "source": [
    "P0 = np.ones((2,2)) * Q"
   ]
  },
  {
   "cell_type": "code",
   "execution_count": 49,
   "metadata": {},
   "outputs": [],
   "source": [
    "def covars(F, G, H, Q, R, P0, t_steps):\n",
    "    '''\n",
    "    Inputs: F   Xsize*Xsize state transition matrix\n",
    "         G   Xsize*Vsize state noise transition matrix\n",
    "         H   Zsize*Xsize observation matrix\n",
    "         Q   Vsize*Vsize process noise covariance matrix\n",
    "         R   Zsize*Zsize observation noise covariance matrix\n",
    "         P0  Xsize*Xsize initial state covariance\n",
    "         t_steps, number of time-steps to be simulated\n",
    "\n",
    "     Outputs: W     t_steps*(Xsize*Zsize): Gain history\n",
    "              Pest  t_steps*(Xsize*Xsize): Estimate Covariance history\n",
    "              Ppred t_steps*(Xsize*Xsize): Prediction Covariance history\n",
    "              S     t_steps*(Xsize*Xsize): Innovation Covariance history\n",
    "    '''\n",
    "    # First check all matrix dimensions\n",
    "    Xsize = P0.shape[0]\n",
    "    Vsize = G.shape[1]\n",
    "    Zsize = H.shape[0]\n",
    "    \n",
    "    assert Xsize == P0.shape[1], \"P0 must be square\"\n",
    "    assert F.shape[0] == F.shape[1], \"F is non-square\"\n",
    "    assert F.shape[0] == Xsize, \"F state dimension does not match Xsize\"\n",
    "    assert G.shape[0] == Xsize, \"G does not match dimension of F\"\n",
    "    if len(Q.flatten()) > 1:\n",
    "        assert Q.shape[0] == Q.shape[1], \"Q must be square\"\n",
    "    assert Vsize == Q.shape[1], \"Q does not match dimension of G\"\n",
    "    assert H.shape[1] == Xsize, \"H and Xsize do not match\"\n",
    "    assert R.shape[0] == R.shape[1], \"R must be square\"\n",
    "    assert R.shape[0] == Zsize, \"R must match Zsize of H\"\n",
    "    #----------------------------------------------------------------------#\n",
    "    # End checking of dimensions\n",
    "    \n",
    "    # Fix up output matrices \n",
    "    W = np.zeros((t_steps, Xsize * Zsize))\n",
    "    Pest = np.zeros((t_steps, Xsize * Xsize))\n",
    "    Ppred = np.zeros((t_steps, Xsize * Xsize))\n",
    "    S = np.zeros((t_steps, Zsize * Zsize))\n",
    "    \n",
    "    # initial value\n",
    "    lPest = P0\n",
    "    \n",
    "    # ready to go\n",
    "    for i in range(0, t_steps - 1):\n",
    "        # firs the actual calculation in local variables\n",
    "        lPpred = F @ lPest @ F.T + G @ Q @ G.T\n",
    "        lS = H @ lPpred @ H.T + R\n",
    "        lW = lPpred @ H.T/lS\n",
    "        lPest = lPpred - lW @ lS @ lW.T\n",
    "        # then record the results in columns of output states\n",
    "    return lW\n",
    "    "
   ]
  },
  {
   "cell_type": "code",
   "execution_count": 50,
   "metadata": {},
   "outputs": [],
   "source": [
    "def xestim(F,G,H,Q,R,x0,P0,z, t_steps):\n",
    "    ''' \n",
    "    Inputs: F   Xsize*Xsize state transition matrix\n",
    "            G   Xsize*Vsize state noise transition matrix\n",
    "            H   Zsize*Xsize observation matrix\n",
    "            Q   Vsize*Vsize process noise covariance matrix\n",
    "            R   Zsize*Zsize observation noise covariance matrix\n",
    "            x0  Xsize*1 initial state vector \n",
    "            P0  Xsize*Xsize initial state covariance matrix\n",
    "            z   Zsize*t_steps observation sequence to be filtered\n",
    "\n",
    "    Outputs: xest  Xsize*t_steps estimated state time history\n",
    "             xpred Xsize*t_steps predicted state time history\n",
    "             innov Zsize*t_steps innovation time history\n",
    "    '''\n",
    "    assert F.shape[0] == F.shape[1], \"F is non-square\"\n",
    "    assert x0.shape[0] == F.shape[0], \"X0 does not match dimension of F\"\n",
    "    assert x0.shape[0] == G.shape[0], \"G does not match dimension of x0\"\n",
    "    assert Q.shape[0] == Q.shape[1], \"Q must be square\"\n",
    "    assert G.shape[1] == Q.shape[0], \"Q does not match the dimension of G\"\n",
    "    assert H.shape[1] == x0.shape[0], \"H and xsize do not match\"\n",
    "    assert R.shape[0] == R.shape[1], \"R must be square\"\n",
    "    assert R.shape[0] == H.shape[0], \"R must match Zsize of H\"\n",
    "    assert P0.shape[0] == P0.shape[1], \"P0 must be square\"\n",
    "    assert P0.shape[0] == x0.shape[0], \"P0 must have dimensions Xsize\"\n",
    "    assert z.shape[0] == H.shape[0], \"Observation sequence must have Zsize rows\"\n",
    "    #-----------------#\n",
    "    # end checking of dimensions\n",
    "    Xsize = x0.shape[0]\n",
    "    Zsize = H.shape[0]\n",
    "   \n",
    "    # fix up output matrices\n",
    "    xest = np.zeros((Xsize, t_steps))\n",
    "    xpred = np.zeros((Xsize, t_steps))\n",
    "    innov = np.zeros((Zsize, t_steps))\n",
    "    \n",
    "    # compute all the necessary gain matrices a priori\n",
    "    W = covars(F, G, H, Q, R, P0, t_steps)\n",
    "    \n",
    "    return W"
   ]
  },
  {
   "cell_type": "code",
   "execution_count": 51,
   "metadata": {},
   "outputs": [
    {
     "data": {
      "text/plain": [
       "array([[0.06631723],\n",
       "       [0.009957  ]])"
      ]
     },
     "execution_count": 51,
     "metadata": {},
     "output_type": "execute_result"
    }
   ],
   "source": [
    "xestim(F, G, H, Q, R, x0, P0, z, t_steps)"
   ]
  },
  {
   "cell_type": "code",
   "execution_count": 52,
   "metadata": {},
   "outputs": [
    {
     "data": {
      "text/plain": [
       "(2, 1)"
      ]
     },
     "execution_count": 52,
     "metadata": {},
     "output_type": "execute_result"
    }
   ],
   "source": [
    "x0.shape"
   ]
  },
  {
   "cell_type": "code",
   "execution_count": null,
   "metadata": {},
   "outputs": [],
   "source": []
  }
 ],
 "metadata": {
  "kernelspec": {
   "display_name": "Python 3",
   "language": "python",
   "name": "python3"
  },
  "language_info": {
   "codemirror_mode": {
    "name": "ipython",
    "version": 3
   },
   "file_extension": ".py",
   "mimetype": "text/x-python",
   "name": "python",
   "nbconvert_exporter": "python",
   "pygments_lexer": "ipython3",
   "version": "3.7.6"
  }
 },
 "nbformat": 4,
 "nbformat_minor": 4
}
